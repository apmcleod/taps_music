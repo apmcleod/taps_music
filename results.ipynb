{
 "cells": [
  {
   "cell_type": "code",
   "execution_count": null,
   "metadata": {},
   "outputs": [],
   "source": [
    "from collections import defaultdict\n",
    "from glob import glob\n",
    "from pathlib import Path\n",
    "\n",
    "results_directory = \"results-outputs\"\n",
    "stats_directory = \"results-stats\""
   ]
  },
  {
   "cell_type": "markdown",
   "metadata": {},
   "source": [
    "## Results"
   ]
  },
  {
   "cell_type": "code",
   "execution_count": null,
   "metadata": {},
   "outputs": [],
   "source": [
    "diffs = defaultdict(lambda: defaultdict(dict))  # method -> metric -> shift -> value\n",
    "values = defaultdict(lambda: defaultdict(dict))  # method -> metric -> shift -> value\n",
    "metrics = [\n",
    "    \"note precision\",\n",
    "    \"note recall\",\n",
    "    \"note f1\",\n",
    "    \"pre-notes frame Precision\",\n",
    "    \"pre-notes frame Recall\",\n",
    "    \"pre-notes frame F1\",\n",
    "    \"post-notes frame Precision\",\n",
    "    \"post-notes frame Recall\",\n",
    "    \"post-notes frame F1\",\n",
    "]\n",
    "\n",
    "for file in glob(results_directory + \"/*.out\"):\n",
    "    name = Path(file).stem[8:]\n",
    "    last_index = len(name) - name[::-1].index(\"-\") - 1\n",
    "    method = name[:last_index]\n",
    "    shift = name[last_index + 1:]\n",
    "\n",
    "    mixture_results = {}\n",
    "    with open(file, \"r\") as f:\n",
    "        lines = f.readlines()\n",
    "    for line in lines:\n",
    "        if any([metric in line for metric in metrics]):\n",
    "            metric = line.split(\":\")[0]\n",
    "            value = float(line.split(\":\")[1])\n",
    "            if metric not in mixture_results:\n",
    "                mixture_results[metric] = value\n",
    "                values[method][metric][shift] = value\n",
    "            else:\n",
    "                diffs[method][metric][shift] = mixture_results[metric] - value\n",
    "\n",
    "for method in diffs:\n",
    "    print(method)\n",
    "    for metric in diffs[method]:\n",
    "        print(metric)\n",
    "        print(\"\".join([f\"({shift},{round(diffs[method][metric][shift] * 100, 2)})\" for shift in sorted(diffs[method][metric].keys())]))\n",
    "        print(\", \".join([f\"{shift}: {round(values[method][metric][shift] * 100, 2)}\" for shift in sorted(values[method][metric].keys())]))\n",
    "    print()"
   ]
  },
  {
   "cell_type": "markdown",
   "metadata": {},
   "source": [
    "## Stats"
   ]
  },
  {
   "cell_type": "code",
   "execution_count": null,
   "metadata": {},
   "outputs": [],
   "source": [
    "sums = defaultdict(int)\n",
    "\n",
    "for file in glob(stats_directory + \"/*.out\"):\n",
    "    with open(file, \"r\") as f:\n",
    "        lines = f.readlines()\n",
    "    for line in lines:\n",
    "        if line.startswith(\"Output Type\") or line.strip() == \"\":\n",
    "            continue\n",
    "\n",
    "        key, rest = line.split(\":\")\n",
    "        value = int(rest.split(\"=\")[0])\n",
    "\n",
    "        sums[key] += value\n",
    "\n",
    "for key, value in sums.items():\n",
    "    print(f\"{key}: {value}\")\n",
    "\n",
    "print()\n",
    "print(f'% Unsure: {sums[\"Unsure Outputs\"] / sums[\"Total Outputs\"] * 100}')\n",
    "print(f'% Non-Unsure: {sums[\"Non-Unsure Outputs\"] / sums[\"Total Outputs\"] * 100}')\n",
    "print(f'% Unsure Correct: {sums[\"Unsure Correct\"] / sums[\"Unsure Outputs\"] * 100}')\n",
    "print(f'% Non-Unsure Correct: {sums[\"Non-Unsure Correct\"] / sums[\"Non-Unsure Outputs\"] * 100}')\n",
    "print(f'% Non-Unsure Shifted: {sums[\"Non-Unsure Shifted Outputs\"] / sums[\"Total Shifted Outputs\"] * 100}')\n",
    "print(f'% Non-Unsure Shifted Correct: {sums[\"Non-Unsure Shifted Correct\"] / sums[\"Non-Unsure Shifted Outputs\"] * 100}')"
   ]
  }
 ],
 "metadata": {
  "kernelspec": {
   "display_name": "thresh",
   "language": "python",
   "name": "python3"
  },
  "language_info": {
   "codemirror_mode": {
    "name": "ipython",
    "version": 3
   },
   "file_extension": ".py",
   "mimetype": "text/x-python",
   "name": "python",
   "nbconvert_exporter": "python",
   "pygments_lexer": "ipython3",
   "version": "3.7.12"
  }
 },
 "nbformat": 4,
 "nbformat_minor": 2
}
